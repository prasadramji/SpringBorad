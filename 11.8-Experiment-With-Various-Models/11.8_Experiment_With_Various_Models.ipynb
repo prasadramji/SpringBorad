{
 "cells": [
  {
   "cell_type": "markdown",
   "metadata": {},
   "source": [
    "# Experiment With Various Models"
   ]
  },
  {
   "cell_type": "code",
   "execution_count": 35,
   "metadata": {
    "execution": {
     "iopub.execute_input": "2021-10-17T19:07:29.558731Z",
     "iopub.status.busy": "2021-10-17T19:07:29.558004Z",
     "iopub.status.idle": "2021-10-17T19:07:43.153803Z",
     "shell.execute_reply": "2021-10-17T19:07:43.152745Z",
     "shell.execute_reply.started": "2021-10-17T19:07:29.558639Z"
    }
   },
   "outputs": [
    {
     "name": "stdout",
     "output_type": "stream",
     "text": [
      "Done\n"
     ]
    }
   ],
   "source": [
    "import numpy as np \n",
    "import pandas as pd \n",
    "import tensorflow as tf\n",
    "from tensorflow import keras\n",
    "\n",
    "import matplotlib.pyplot as plt\n",
    "import cv2\n",
    "from tensorflow.keras.models import Model\n",
    "from tensorflow.keras.applications import InceptionV3\n",
    "from tensorflow.keras.applications.resnet50 import ResNet50\n",
    "from tensorflow.keras.applications import ResNet101\n",
    "from tensorflow.keras.models import Sequential\n",
    "from tensorflow.keras.layers import Dense, Flatten, GlobalAveragePooling2D, Dropout\n",
    "from tensorflow.keras.applications.resnet50 import preprocess_input\n",
    "from tensorflow.keras.preprocessing.image import ImageDataGenerator\n",
    "from tensorflow.keras.callbacks import ModelCheckpoint, EarlyStopping\n",
    "from tensorflow.keras.optimizers import Adam\n",
    "from tensorflow.keras import optimizers, losses, activations, models\n",
    "from tensorflow.keras.applications.vgg16 import VGG16, preprocess_input\n",
    "\n",
    "import os\n",
    "\n",
    "print('Done')"
   ]
  },
  {
   "cell_type": "markdown",
   "metadata": {},
   "source": [
    "### Set up the file directory"
   ]
  },
  {
   "cell_type": "code",
   "execution_count": 22,
   "metadata": {
    "execution": {
     "iopub.execute_input": "2021-10-17T19:07:43.155809Z",
     "iopub.status.busy": "2021-10-17T19:07:43.155489Z",
     "iopub.status.idle": "2021-10-17T19:07:43.161378Z",
     "shell.execute_reply": "2021-10-17T19:07:43.160288Z",
     "shell.execute_reply.started": "2021-10-17T19:07:43.155777Z"
    }
   },
   "outputs": [],
   "source": [
    "colon_dir='../data/SpringBoard/lung_colon_image_set/colon_image_sets/'\n",
    "lung_dir='../data/SpringBoard/lung_colon_image_set/lung_image_sets/'\n",
    "lung_aca='../data/SpringBoard/lung_colon_image_set/lung_image_sets/lung_aca/'\n",
    "lung_n='../data/SpringBoard/lung_colon_image_set/lung_image_sets/lung_n/'\n",
    "lung_scc='../data/SpringBoard/lung_colon_image_set/lung_image_sets/lung_scc/'"
   ]
  },
  {
   "cell_type": "code",
   "execution_count": 4,
   "metadata": {
    "execution": {
     "iopub.execute_input": "2021-10-17T19:07:44.728064Z",
     "iopub.status.busy": "2021-10-17T19:07:44.727747Z",
     "iopub.status.idle": "2021-10-17T19:07:57.911862Z",
     "shell.execute_reply": "2021-10-17T19:07:57.910923Z",
     "shell.execute_reply.started": "2021-10-17T19:07:44.728034Z"
    }
   },
   "outputs": [
    {
     "name": "stdout",
     "output_type": "stream",
     "text": [
      "Found 4200 images belonging to 3 classes.\n",
      "Found 1800 images belonging to 3 classes.\n"
     ]
    }
   ],
   "source": [
    "SIZE_X=SIZE_Y=224\n",
    "data=ImageDataGenerator(validation_split = 0.3)\n",
    "BATCH_SIZE = 128\n",
    "\n",
    "training=data.flow_from_directory(lung_dir,\n",
    "                                  class_mode = \"categorical\",\n",
    "                                  target_size = (SIZE_X,SIZE_Y),\n",
    "                                  color_mode=\"rgb\",\n",
    "                                  batch_size = 128, \n",
    "                                  shuffle = False,\n",
    "                                  subset='training',\n",
    "                                  seed = 42)\n",
    "\n",
    "validation=data.flow_from_directory(lung_dir,\n",
    "                                    class_mode = \"categorical\",\n",
    "                                    target_size = (SIZE_X,SIZE_Y),\n",
    "                                    color_mode=\"rgb\",\n",
    "                                    batch_size = 128, \n",
    "                                    shuffle = False,\n",
    "                                    subset='validation',\n",
    "                                    seed = 42)"
   ]
  },
  {
   "cell_type": "markdown",
   "metadata": {},
   "source": [
    "# Choosing and training the model\n",
    "### Using three neural networks \n",
    "### 1: VGG 16\n",
    "### 2: InceptionV3\n",
    "### 3: ResNet50"
   ]
  },
  {
   "cell_type": "code",
   "execution_count": 5,
   "metadata": {
    "execution": {
     "iopub.execute_input": "2021-10-17T19:07:57.913236Z",
     "iopub.status.busy": "2021-10-17T19:07:57.912957Z",
     "iopub.status.idle": "2021-10-17T19:07:57.921514Z",
     "shell.execute_reply": "2021-10-17T19:07:57.920115Z",
     "shell.execute_reply.started": "2021-10-17T19:07:57.913210Z"
    }
   },
   "outputs": [],
   "source": [
    "# VGG 16\n",
    "\n",
    "def create_model(input_shape,n_classes,optimizer='adam',fine_tune=0):\n",
    "    conv_base = VGG16(include_top=False,\n",
    "                     weights='imagenet', \n",
    "                     input_shape=input_shape)\n",
    "\n",
    "    if fine_tune > 0:\n",
    "        for layer in conv_base.layers[:-fine_tune]:\n",
    "            layer.trainable = False\n",
    "    else:\n",
    "        for layer in conv_base.layers:\n",
    "            layer.trainable = False\n",
    "\n",
    "    top_model = conv_base.output\n",
    "    top_model = Flatten(name=\"flatten\")(top_model)\n",
    "    top_model = Dense(256, activation='relu')(top_model)\n",
    "    top_model = Dense(128, activation='relu')(top_model)\n",
    "    top_model = Dropout(0.2)(top_model) # We add a dropout here to prevent overfitting\n",
    "    output_layer = Dense(3, activation='softmax')(top_model)\n",
    "    model = Model(inputs=conv_base.input, outputs=output_layer)\n",
    "    \n",
    "    model.compile(optimizer = 'adam',\n",
    "                  loss='categorical_crossentropy',\n",
    "                  metrics=['accuracy'])\n",
    "    \n",
    "    return model"
   ]
  },
  {
   "cell_type": "code",
   "execution_count": 6,
   "metadata": {
    "execution": {
     "iopub.execute_input": "2021-10-17T19:07:57.923769Z",
     "iopub.status.busy": "2021-10-17T19:07:57.923081Z",
     "iopub.status.idle": "2021-10-17T19:07:58.863061Z",
     "shell.execute_reply": "2021-10-17T19:07:58.862343Z",
     "shell.execute_reply.started": "2021-10-17T19:07:57.923726Z"
    }
   },
   "outputs": [
    {
     "name": "stdout",
     "output_type": "stream",
     "text": [
      "Downloading data from https://storage.googleapis.com/tensorflow/keras-applications/vgg16/vgg16_weights_tf_dim_ordering_tf_kernels_notop.h5\n",
      "58892288/58889256 [==============================] - 15s 0us/step\n"
     ]
    }
   ],
   "source": [
    "input_shape=(224,224,3)\n",
    "optim_1 = Adam(learning_rate=0.0001)\n",
    "n_classes=3\n",
    "\n",
    "n_steps=training.samples//128\n",
    "n_val_steps=validation.samples//128\n",
    "n_epochs=5\n",
    "\n",
    "vggmodel=create_model(input_shape,n_classes,optim_1,fine_tune=2)"
   ]
  },
  {
   "cell_type": "code",
   "execution_count": 7,
   "metadata": {
    "execution": {
     "iopub.execute_input": "2021-10-17T19:07:58.865134Z",
     "iopub.status.busy": "2021-10-17T19:07:58.864497Z",
     "iopub.status.idle": "2021-10-17T19:07:58.870609Z",
     "shell.execute_reply": "2021-10-17T19:07:58.869707Z",
     "shell.execute_reply.started": "2021-10-17T19:07:58.865090Z"
    }
   },
   "outputs": [],
   "source": [
    "# ModelCheckpoint callback - save best weights\n",
    "tl_checkpoint_1 = ModelCheckpoint(filepath='tl_model_v1.weights.best.hdf5',\n",
    "                                  save_best_only=True,\n",
    "                                  verbose=1)\n",
    "\n",
    "# EarlyStopping\n",
    "early_stop = EarlyStopping(monitor='val_loss',\n",
    "                           patience=10,\n",
    "                           restore_best_weights=True,\n",
    "                           mode='min')"
   ]
  },
  {
   "cell_type": "code",
   "execution_count": 8,
   "metadata": {
    "execution": {
     "iopub.execute_input": "2021-10-17T19:07:58.874979Z",
     "iopub.status.busy": "2021-10-17T19:07:58.874319Z"
    }
   },
   "outputs": [
    {
     "name": "stdout",
     "output_type": "stream",
     "text": [
      "Epoch 1/5\n",
      "32/32 [==============================] - 1279s 41s/step - loss: 15.1920 - accuracy: 0.4740 - val_loss: 0.6087 - val_accuracy: 0.7762\n",
      "\n",
      "Epoch 00001: val_loss improved from inf to 0.60871, saving model to tl_model_v1.weights.best.hdf5\n",
      "Epoch 2/5\n",
      "32/32 [==============================] - 1248s 39s/step - loss: 0.4656 - accuracy: 0.8418 - val_loss: 0.3338 - val_accuracy: 0.8655\n",
      "\n",
      "Epoch 00002: val_loss improved from 0.60871 to 0.33380, saving model to tl_model_v1.weights.best.hdf5\n",
      "Epoch 3/5\n",
      "32/32 [==============================] - 1573s 50s/step - loss: 2.1566 - accuracy: 0.7269 - val_loss: 2.6856 - val_accuracy: 0.7188\n",
      "\n",
      "Epoch 00003: val_loss did not improve from 0.33380\n",
      "Epoch 4/5\n",
      "32/32 [==============================] - 1300s 41s/step - loss: 0.5022 - accuracy: 0.8689 - val_loss: 0.2520 - val_accuracy: 0.9062\n",
      "\n",
      "Epoch 00004: val_loss improved from 0.33380 to 0.25197, saving model to tl_model_v1.weights.best.hdf5\n",
      "Epoch 5/5\n",
      "32/32 [==============================] - 1146s 36s/step - loss: 0.1722 - accuracy: 0.9325 - val_loss: 0.2104 - val_accuracy: 0.9241\n",
      "\n",
      "Epoch 00005: val_loss improved from 0.25197 to 0.21038, saving model to tl_model_v1.weights.best.hdf5\n",
      "CPU times: user 8h 10min 20s, sys: 24min 52s, total: 8h 35min 13s\n",
      "Wall time: 1h 49min 10s\n"
     ]
    }
   ],
   "source": [
    "%%time \n",
    "\n",
    "vgg_history = vggmodel.fit(training,\n",
    "                           batch_size=BATCH_SIZE,\n",
    "                           epochs=n_epochs,\n",
    "                           validation_data=(validation),\n",
    "                           steps_per_epoch=n_steps,\n",
    "                           validation_steps=n_val_steps,\n",
    "                           callbacks=[tl_checkpoint_1, early_stop],\n",
    "                           verbose=1)"
   ]
  },
  {
   "cell_type": "markdown",
   "metadata": {},
   "source": [
    "### Plot the performance of the model, the loss and the accuracy rate as the model is being trained"
   ]
  },
  {
   "cell_type": "code",
   "execution_count": 9,
   "metadata": {
    "scrolled": true
   },
   "outputs": [
    {
     "data": {
      "image/png": "[encoded data removed]",
      "text/plain": [
       "<Figure size 432x288 with 1 Axes>"
      ]
     },
     "metadata": {
      "needs_background": "light"
     },
     "output_type": "display_data"
    },
    {
     "data": {
      "image/png": "[encoded data removed]",
      "text/plain": [
       "<Figure size 432x288 with 1 Axes>"
      ]
     },
     "metadata": {
      "needs_background": "light"
     },
     "output_type": "display_data"
    }
   ],
   "source": [
    "plt.plot(vgg_history.history['loss'],label = 'train_loss')\n",
    "plt.plot(vgg_history.history['val_loss'], label = 'testing_loss')\n",
    "plt.title('loss')\n",
    "plt.legend()\n",
    "plt.show()\n",
    "\n",
    "plt.plot(vgg_history.history['accuracy'], label='training_accuracy')\n",
    "plt.plot(vgg_history.history['val_accuracy'], label='validation accuracy')\n",
    "plt.title('Accuracy')\n",
    "plt.legend()\n",
    "plt.show()"
   ]
  },
  {
   "cell_type": "markdown",
   "metadata": {},
   "source": [
    "### Calculate the accuracy rate of this model"
   ]
  },
  {
   "cell_type": "code",
   "execution_count": 10,
   "metadata": {},
   "outputs": [],
   "source": [
    "vggmodel.load_weights('tl_model_v1.weights.best.hdf5') # initialize the best trained weights\n",
    "\n",
    "true_classes = validation.classes\n",
    "class_indices = training.class_indices\n",
    "class_indices = dict((v,k) for k,v in class_indices.items())\n",
    "\n",
    "vgg_preds = vggmodel.predict(validation)\n",
    "vgg_pred_classes = np.argmax(vgg_preds, axis=1)"
   ]
  },
  {
   "cell_type": "code",
   "execution_count": 11,
   "metadata": {},
   "outputs": [
    {
     "name": "stdout",
     "output_type": "stream",
     "text": [
      "VGG16 Model Accuracy with Fine-Tuning: 0.92\n"
     ]
    }
   ],
   "source": [
    "from sklearn.metrics import accuracy_score\n",
    "\n",
    "vgg_acc = accuracy_score(true_classes, vgg_pred_classes)\n",
    "print(\"VGG16 Model Accuracy with Fine-Tuning: {:.2f}\".format(vgg_acc))"
   ]
  },
  {
   "cell_type": "markdown",
   "metadata": {},
   "source": [
    "### Training model with InceptionV3"
   ]
  },
  {
   "cell_type": "code",
   "execution_count": 12,
   "metadata": {},
   "outputs": [
    {
     "name": "stdout",
     "output_type": "stream",
     "text": [
      "Downloading data from https://storage.googleapis.com/tensorflow/keras-applications/inception_v3/inception_v3_weights_tf_dim_ordering_tf_kernels_notop.h5\n",
      "87916544/87910968 [==============================] - 14s 0us/step\n"
     ]
    }
   ],
   "source": [
    "# InceptionV3\n",
    "\n",
    "input_shape=(224,224,3)\n",
    "\n",
    "n_classes=3\n",
    "\n",
    "base_model=InceptionV3(weights='imagenet',\n",
    "                      include_top=False,\n",
    "                      input_shape=(224,224,3))\n",
    "# This is to ensure the base won't be trained again\n",
    "base_model.trainable=False\n",
    "\n",
    "add_model=Sequential()\n",
    "add_model.add(base_model)\n",
    "add_model.add(GlobalAveragePooling2D())\n",
    "add_model.add(Dropout(0.2)) # We add a dropout here to prevent overfitting\n",
    "add_model.add(Dense(n_classes,\n",
    "                   activation='softmax'))\n",
    "\n",
    "inceptionmodel=add_model"
   ]
  },
  {
   "cell_type": "markdown",
   "metadata": {},
   "source": [
    "### Compile the model with the same configuration as above"
   ]
  },
  {
   "cell_type": "code",
   "execution_count": 13,
   "metadata": {},
   "outputs": [
    {
     "name": "stdout",
     "output_type": "stream",
     "text": [
      "Model: \"sequential\"\n",
      "_________________________________________________________________\n",
      "Layer (type)                 Output Shape              Param #   \n",
      "=================================================================\n",
      "inception_v3 (Functional)    (None, 5, 5, 2048)        21802784  \n",
      "_________________________________________________________________\n",
      "global_average_pooling2d (Gl (None, 2048)              0         \n",
      "_________________________________________________________________\n",
      "dropout_1 (Dropout)          (None, 2048)              0         \n",
      "_________________________________________________________________\n",
      "dense_3 (Dense)              (None, 3)                 6147      \n",
      "=================================================================\n",
      "Total params: 21,808,931\n",
      "Trainable params: 6,147\n",
      "Non-trainable params: 21,802,784\n",
      "_________________________________________________________________\n"
     ]
    }
   ],
   "source": [
    "inceptionmodel.compile(loss='categorical_crossentropy',\n",
    "                      optimizer = 'adam',\n",
    "                      metrics=['accuracy'])\n",
    "inceptionmodel.summary()"
   ]
  },
  {
   "cell_type": "code",
   "execution_count": 14,
   "metadata": {},
   "outputs": [
    {
     "name": "stdout",
     "output_type": "stream",
     "text": [
      "Epoch 1/5\n",
      "33/33 [==============================] - 243s 7s/step - loss: 22.0275 - accuracy: 0.4124 - val_loss: 4.2722 - val_accuracy: 0.5806\n",
      "\n",
      "Epoch 00001: val_loss improved from inf to 4.27220, saving model to weights.best.hdf5\n",
      "Epoch 2/5\n",
      "33/33 [==============================] - 233s 7s/step - loss: 13.5037 - accuracy: 0.4802 - val_loss: 11.9608 - val_accuracy: 0.5778\n",
      "\n",
      "Epoch 00002: val_loss did not improve from 4.27220\n",
      "Epoch 3/5\n",
      "33/33 [==============================] - 250s 8s/step - loss: 11.4044 - accuracy: 0.5274 - val_loss: 3.4145 - val_accuracy: 0.6656\n",
      "\n",
      "Epoch 00003: val_loss improved from 4.27220 to 3.41447, saving model to weights.best.hdf5\n",
      "Epoch 4/5\n",
      "33/33 [==============================] - 262s 8s/step - loss: 7.5249 - accuracy: 0.6129 - val_loss: 8.7544 - val_accuracy: 0.5278\n",
      "\n",
      "Epoch 00004: val_loss did not improve from 3.41447\n",
      "Epoch 5/5\n",
      "33/33 [==============================] - 256s 8s/step - loss: 9.3186 - accuracy: 0.5302 - val_loss: 3.1228 - val_accuracy: 0.6911\n",
      "\n",
      "Epoch 00005: val_loss improved from 3.41447 to 3.12285, saving model to weights.best.hdf5\n"
     ]
    }
   ],
   "source": [
    "file_path=\"weights.best.hdf5\"\n",
    "checkpoint = ModelCheckpoint(file_path, monitor='val_loss', verbose=1, save_best_only=True, mode='min')\n",
    "\n",
    "early = EarlyStopping(monitor=\"val_loss\", mode=\"min\", patience=10)\n",
    "\n",
    "callbacks_list = [checkpoint, early]\n",
    "\n",
    "# Fit the model with the same configuration as above\n",
    "inceptionhistory=inceptionmodel.fit(training,\n",
    "                                   epochs=5,\n",
    "                                   validation_data=(validation),\n",
    "                                   verbose=1,\n",
    "                                   callbacks=callbacks_list)"
   ]
  },
  {
   "cell_type": "markdown",
   "metadata": {},
   "source": [
    "#### Plot the performance of the model as it is being trained"
   ]
  },
  {
   "cell_type": "code",
   "execution_count": 15,
   "metadata": {},
   "outputs": [
    {
     "data": {
      "image/png": "[encoded data removed]",
      "text/plain": [
       "<Figure size 432x288 with 1 Axes>"
      ]
     },
     "metadata": {
      "needs_background": "light"
     },
     "output_type": "display_data"
    },
    {
     "data": {
      "image/png": "[encoded data removed]",
      "text/plain": [
       "<Figure size 432x288 with 1 Axes>"
      ]
     },
     "metadata": {
      "needs_background": "light"
     },
     "output_type": "display_data"
    }
   ],
   "source": [
    "plt.plot(inceptionhistory.history['loss'],label = 'train_loss')\n",
    "plt.plot(inceptionhistory.history['val_loss'], label = 'testing_loss')\n",
    "plt.title('loss')\n",
    "plt.legend()\n",
    "plt.show()\n",
    "\n",
    "plt.plot(inceptionhistory.history['accuracy'], label='training_accuracy')\n",
    "plt.plot(inceptionhistory.history['val_accuracy'], label='validation accuracy')\n",
    "plt.title('Accuracy')\n",
    "plt.legend()\n",
    "plt.show()"
   ]
  },
  {
   "cell_type": "code",
   "execution_count": 16,
   "metadata": {},
   "outputs": [
    {
     "name": "stdout",
     "output_type": "stream",
     "text": [
      "15/15 [==============================] - 71s 5s/step - loss: 3.1228 - accuracy: 0.6911\n",
      "The test loss for InceptionV3 is 3.12 and the test accuracy is 0.69\n"
     ]
    }
   ],
   "source": [
    "inceptionresult=inceptionmodel.evaluate(validation,batch_size=128)\n",
    "print(f'The test loss for InceptionV3 is {\"{:.2f}\".format(inceptionresult[0])} and the test accuracy is {\"{:.2f}\".format(inceptionresult[1])}')"
   ]
  },
  {
   "cell_type": "markdown",
   "metadata": {},
   "source": [
    "### Training model with ResNet 50"
   ]
  },
  {
   "cell_type": "code",
   "execution_count": 17,
   "metadata": {},
   "outputs": [
    {
     "name": "stdout",
     "output_type": "stream",
     "text": [
      "Downloading data from https://storage.googleapis.com/tensorflow/keras-applications/resnet/resnet50_weights_tf_dim_ordering_tf_kernels_notop.h5\n",
      "94773248/94765736 [==============================] - 25s 0us/step\n",
      "Model: \"model_1\"\n",
      "_________________________________________________________________\n",
      "Layer (type)                 Output Shape              Param #   \n",
      "=================================================================\n",
      "resnet50_input (InputLayer)  [(None, 224, 224, 3)]     0         \n",
      "_________________________________________________________________\n",
      "resnet50 (Functional)        (None, 7, 7, 2048)        23587712  \n",
      "_________________________________________________________________\n",
      "flatten (Flatten)            (None, 100352)            0         \n",
      "_________________________________________________________________\n",
      "dense_4 (Dense)              (None, 256)               25690368  \n",
      "_________________________________________________________________\n",
      "dense_5 (Dense)              (None, 128)               32896     \n",
      "_________________________________________________________________\n",
      "dropout_2 (Dropout)          (None, 128)               0         \n",
      "_________________________________________________________________\n",
      "dense_6 (Dense)              (None, 3)                 387       \n",
      "=================================================================\n",
      "Total params: 49,311,363\n",
      "Trainable params: 25,723,651\n",
      "Non-trainable params: 23,587,712\n",
      "_________________________________________________________________\n"
     ]
    }
   ],
   "source": [
    "# ResNet50\n",
    "Image_Size=[224,224]\n",
    "\n",
    "resnet=Sequential()\n",
    "\n",
    "resnet.add(ResNet50(input_shape=Image_Size+[3],weights='imagenet',include_top=False,pooling='average'))\n",
    "\n",
    "# This is to ensure the base won't be trained again\n",
    "for layer in resnet.layers:\n",
    "    layer.trainable=False\n",
    "    \n",
    "flatten=Flatten()(resnet.output)\n",
    "dense=Dense(256,activation='relu')(flatten)\n",
    "dense=Dense(128,activation='relu')(dense)\n",
    "dense=Dropout(0.2)(dense)   # We add a dropout here to prevent overfitting\n",
    "prediction=Dense(3,activation='softmax')(dense)\n",
    "\n",
    "resmodel=Model(inputs=resnet.input,outputs=prediction)\n",
    "\n",
    "resmodel.summary()"
   ]
  },
  {
   "cell_type": "code",
   "execution_count": 18,
   "metadata": {},
   "outputs": [],
   "source": [
    "# complile the model\n",
    "\n",
    "resmodel.compile(loss='categorical_crossentropy', optimizer = 'adam', metrics = ['accuracy'])"
   ]
  },
  {
   "cell_type": "code",
   "execution_count": 19,
   "metadata": {},
   "outputs": [
    {
     "name": "stdout",
     "output_type": "stream",
     "text": [
      "Epoch 1/5\n",
      "33/33 [==============================] - 502s 15s/step - loss: 41.2875 - accuracy: 0.6136 - val_loss: 20.7930 - val_accuracy: 0.6461\n",
      "Epoch 2/5\n",
      "33/33 [==============================] - 454s 14s/step - loss: 4.5254 - accuracy: 0.8783 - val_loss: 1.6166 - val_accuracy: 0.8822\n",
      "Epoch 3/5\n",
      "33/33 [==============================] - 455s 14s/step - loss: 2.0031 - accuracy: 0.8860 - val_loss: 1.9968 - val_accuracy: 0.8661\n",
      "Epoch 4/5\n",
      "33/33 [==============================] - 427s 13s/step - loss: 1.2235 - accuracy: 0.9105 - val_loss: 0.3537 - val_accuracy: 0.9589\n",
      "Epoch 5/5\n",
      "33/33 [==============================] - 449s 14s/step - loss: 0.4727 - accuracy: 0.9436 - val_loss: 0.4067 - val_accuracy: 0.9444\n"
     ]
    }
   ],
   "source": [
    "# fit the model to the data with the same configuration\n",
    "reshistory=resmodel.fit(training,validation_data=(validation),epochs=5,verbose=1)"
   ]
  },
  {
   "cell_type": "code",
   "execution_count": 20,
   "metadata": {},
   "outputs": [
    {
     "data": {
      "image/png": "[encoded data removed]",
      "text/plain": [
       "<Figure size 432x288 with 1 Axes>"
      ]
     },
     "metadata": {
      "needs_background": "light"
     },
     "output_type": "display_data"
    },
    {
     "data": {
      "image/png": "[encoded data removed]",
      "text/plain": [
       "<Figure size 432x288 with 1 Axes>"
      ]
     },
     "metadata": {
      "needs_background": "light"
     },
     "output_type": "display_data"
    }
   ],
   "source": [
    "# plot the performance of this model\n",
    "\n",
    "plt.plot(reshistory.history['loss'],label = 'train_loss')\n",
    "plt.plot(reshistory.history['val_loss'], label = 'testing_loss')\n",
    "plt.title('loss')\n",
    "plt.legend()\n",
    "plt.show()\n",
    "\n",
    "plt.plot(reshistory.history['accuracy'], label='training_accuracy')\n",
    "plt.plot(reshistory.history['val_accuracy'], label='validation accuracy')\n",
    "plt.title('Accuracy')\n",
    "plt.legend()\n",
    "plt.show()"
   ]
  },
  {
   "cell_type": "code",
   "execution_count": 21,
   "metadata": {},
   "outputs": [
    {
     "name": "stdout",
     "output_type": "stream",
     "text": [
      "15/15 [==============================] - 131s 9s/step - loss: 0.4067 - accuracy: 0.9444\n",
      "The test loss for ResNet 50 is 0.41 and the test accuracy is 0.94\n"
     ]
    }
   ],
   "source": [
    "# Evaluate the result of the prediction\n",
    "\n",
    "result=resmodel.evaluate(validation,batch_size=128)\n",
    "print(f'The test loss for ResNet 50 is {\"{:.2f}\".format(result[0])} and the test accuracy is {\"{:.2f}\".format(result[1])}')"
   ]
  },
  {
   "cell_type": "code",
   "execution_count": 36,
   "metadata": {},
   "outputs": [
    {
     "name": "stdout",
     "output_type": "stream",
     "text": [
      "Downloading data from https://storage.googleapis.com/tensorflow/keras-applications/resnet/resnet101_weights_tf_dim_ordering_tf_kernels_notop.h5\n",
      "171450368/171446536 [==============================] - 13s 0us/step\n",
      "Model: \"model_2\"\n",
      "_________________________________________________________________\n",
      "Layer (type)                 Output Shape              Param #   \n",
      "=================================================================\n",
      "resnet101_input (InputLayer) [(None, 224, 224, 3)]     0         \n",
      "_________________________________________________________________\n",
      "resnet101 (Functional)       (None, 7, 7, 2048)        42658176  \n",
      "_________________________________________________________________\n",
      "flatten_1 (Flatten)          (None, 100352)            0         \n",
      "_________________________________________________________________\n",
      "dense_7 (Dense)              (None, 256)               25690368  \n",
      "_________________________________________________________________\n",
      "dense_8 (Dense)              (None, 128)               32896     \n",
      "_________________________________________________________________\n",
      "dropout_3 (Dropout)          (None, 128)               0         \n",
      "_________________________________________________________________\n",
      "dense_9 (Dense)              (None, 3)                 387       \n",
      "=================================================================\n",
      "Total params: 68,381,827\n",
      "Trainable params: 25,723,651\n",
      "Non-trainable params: 42,658,176\n",
      "_________________________________________________________________\n"
     ]
    }
   ],
   "source": [
    "# ResNet101\n",
    "Image_Size=[224,224]\n",
    "\n",
    "resnet=Sequential()\n",
    "\n",
    "resnet.add(ResNet101(input_shape=Image_Size+[3],weights='imagenet',include_top=False,pooling='average'))\n",
    "\n",
    "# This is to ensure the base won't be trained again\n",
    "for layer in resnet.layers:\n",
    "    layer.trainable=False\n",
    "    \n",
    "flatten=Flatten()(resnet.output)\n",
    "dense=Dense(256,activation='relu')(flatten)\n",
    "dense=Dense(128,activation='relu')(dense)\n",
    "dense=Dropout(0.2)(dense)   # We add a dropout here to prevent overfitting\n",
    "prediction=Dense(3,activation='softmax')(dense)\n",
    "\n",
    "resmodel=Model(inputs=resnet.input,outputs=prediction)\n",
    "\n",
    "resmodel.summary()"
   ]
  },
  {
   "cell_type": "code",
   "execution_count": 37,
   "metadata": {},
   "outputs": [],
   "source": [
    "# complile the model\n",
    "\n",
    "resmodel.compile(loss='categorical_crossentropy', optimizer = 'adam', metrics = ['accuracy'])"
   ]
  },
  {
   "cell_type": "code",
   "execution_count": 38,
   "metadata": {},
   "outputs": [
    {
     "name": "stdout",
     "output_type": "stream",
     "text": [
      "Epoch 1/5\n",
      "33/33 [==============================] - 797s 24s/step - loss: 33.2434 - accuracy: 0.5386 - val_loss: 6.7630 - val_accuracy: 0.6833\n",
      "Epoch 2/5\n",
      "33/33 [==============================] - 815s 25s/step - loss: 6.5406 - accuracy: 0.7574 - val_loss: 3.3105 - val_accuracy: 0.7828\n",
      "Epoch 3/5\n",
      "33/33 [==============================] - 868s 26s/step - loss: 4.4983 - accuracy: 0.8626 - val_loss: 1.2820 - val_accuracy: 0.9183\n",
      "Epoch 4/5\n",
      "33/33 [==============================] - 716s 22s/step - loss: 1.2256 - accuracy: 0.9110 - val_loss: 0.3803 - val_accuracy: 0.9511\n",
      "Epoch 5/5\n",
      "33/33 [==============================] - 805s 24s/step - loss: 0.5082 - accuracy: 0.9317 - val_loss: 0.4005 - val_accuracy: 0.9500\n"
     ]
    }
   ],
   "source": [
    "# fit the model to the data with the same configuration\n",
    "reshistory=resmodel.fit(training,validation_data=(validation),epochs=5,verbose=1)"
   ]
  },
  {
   "cell_type": "code",
   "execution_count": 39,
   "metadata": {},
   "outputs": [
    {
     "data": {
      "image/png": "[encoded data removed]",
      "text/plain": [
       "<Figure size 432x288 with 1 Axes>"
      ]
     },
     "metadata": {
      "needs_background": "light"
     },
     "output_type": "display_data"
    },
    {
     "data": {
      "image/png": "[encoded data removed]",
      "text/plain": [
       "<Figure size 432x288 with 1 Axes>"
      ]
     },
     "metadata": {
      "needs_background": "light"
     },
     "output_type": "display_data"
    }
   ],
   "source": [
    "# plot the performance of this model\n",
    "\n",
    "plt.plot(reshistory.history['loss'],label = 'train_loss')\n",
    "plt.plot(reshistory.history['val_loss'], label = 'testing_loss')\n",
    "plt.title('loss')\n",
    "plt.legend()\n",
    "plt.show()\n",
    "\n",
    "plt.plot(reshistory.history['accuracy'], label='training_accuracy')\n",
    "plt.plot(reshistory.history['val_accuracy'], label='validation accuracy')\n",
    "plt.title('Accuracy')\n",
    "plt.legend()\n",
    "plt.show()"
   ]
  },
  {
   "cell_type": "code",
   "execution_count": 41,
   "metadata": {},
   "outputs": [
    {
     "name": "stdout",
     "output_type": "stream",
     "text": [
      "15/15 [==============================] - 240s 16s/step - loss: 0.4005 - accuracy: 0.9500\n",
      "The test loss for ResNet 101 is 0.40 and the test accuracy is 0.95\n"
     ]
    }
   ],
   "source": [
    "# Evaluate the result of the prediction\n",
    "\n",
    "result=resmodel.evaluate(validation,batch_size=128)\n",
    "print(f'The test loss for ResNet 101 is {\"{:.2f}\".format(result[0])} and the test accuracy is {\"{:.2f}\".format(result[1])}')"
   ]
  },
  {
   "cell_type": "markdown",
   "metadata": {},
   "source": [
    "### The final prediction accuracy rate for each model follows:\n",
    "### VGG16: 92%\n",
    "### InceptionV3: 69%\n",
    "### ResNet 50: 94%\n",
    "### ResNet 101: 95%"
   ]
  }
 ],
 "metadata": {
  "kernelspec": {
   "display_name": "Python 3",
   "language": "python",
   "name": "python3"
  },
  "language_info": {
   "codemirror_mode": {
    "name": "ipython",
    "version": 3
   },
   "file_extension": ".py",
   "mimetype": "text/x-python",
   "name": "python",
   "nbconvert_exporter": "python",
   "pygments_lexer": "ipython3",
   "version": "3.6.9"
  }
 },
 "nbformat": 4,
 "nbformat_minor": 4
}
